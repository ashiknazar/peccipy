{
 "cells": [
  {
   "cell_type": "code",
   "execution_count": 1,
   "id": "ff1b6b0b",
   "metadata": {},
   "outputs": [],
   "source": [
    "import sys"
   ]
  },
  {
   "cell_type": "code",
   "execution_count": 2,
   "id": "255989bf",
   "metadata": {},
   "outputs": [
    {
     "data": {
      "text/plain": [
       "'3.10.9 | packaged by conda-forge | (main, Jan 11 2023, 15:15:40) [MSC v.1916 64 bit (AMD64)]'"
      ]
     },
     "execution_count": 2,
     "metadata": {},
     "output_type": "execute_result"
    }
   ],
   "source": [
    "sys.version\n"
   ]
  },
  {
   "cell_type": "code",
   "execution_count": 3,
   "id": "757458b0",
   "metadata": {},
   "outputs": [
    {
     "name": "stdout",
     "output_type": "stream",
     "text": [
      "^C\n"
     ]
    }
   ],
   "source": [
    "!conda update python\n"
   ]
  },
  {
   "cell_type": "markdown",
   "id": "112f5a93",
   "metadata": {},
   "source": []
  },
  {
   "cell_type": "markdown",
   "id": "0ec4770e",
   "metadata": {},
   "source": []
  },
  {
   "cell_type": "markdown",
   "id": "eeb570f3",
   "metadata": {},
   "source": []
  }
 ],
 "metadata": {
  "kernelspec": {
   "display_name": "pecenv",
   "language": "python",
   "name": "pecenv"
  },
  "language_info": {
   "codemirror_mode": {
    "name": "ipython",
    "version": 3
   },
   "file_extension": ".py",
   "mimetype": "text/x-python",
   "name": "python",
   "nbconvert_exporter": "python",
   "pygments_lexer": "ipython3",
   "version": "3.10.9"
  }
 },
 "nbformat": 4,
 "nbformat_minor": 5
}
